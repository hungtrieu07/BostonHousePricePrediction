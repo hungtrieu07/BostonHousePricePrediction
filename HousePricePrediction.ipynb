{
  "nbformat": 4,
  "nbformat_minor": 0,
  "metadata": {
    "colab": {
      "name": "HousePricePrediction.ipynb",
      "provenance": [],
      "collapsed_sections": [],
      "include_colab_link": true
    },
    "kernelspec": {
      "name": "python3",
      "display_name": "Python 3"
    },
    "language_info": {
      "name": "python"
    },
    "accelerator": "GPU"
  },
  "cells": [
    {
      "cell_type": "markdown",
      "metadata": {
        "id": "view-in-github",
        "colab_type": "text"
      },
      "source": [
        "<a href=\"https://colab.research.google.com/github/hungtrieu07/HousePricePrediction/blob/main/HousePricePrediction.ipynb\" target=\"_parent\"><img src=\"https://colab.research.google.com/assets/colab-badge.svg\" alt=\"Open In Colab\"/></a>"
      ]
    },
    {
      "cell_type": "code",
      "metadata": {
        "id": "EAuwpBFt3tXs"
      },
      "source": [
        "import numpy as np\n",
        "import matplotlib.pyplot as plt\n",
        "from __future__ import division, print_function\n",
        "import sklearn.preprocessing as pp"
      ],
      "execution_count": null,
      "outputs": []
    },
    {
      "cell_type": "code",
      "source": [
        "!git clone https://github.com/hungtrieu07/HousePricePrediction/"
      ],
      "metadata": {
        "id": "h5vNuyy5836d"
      },
      "execution_count": null,
      "outputs": []
    },
    {
      "cell_type": "code",
      "metadata": {
        "id": "0zNsC0x14lo7"
      },
      "source": [
        "file_path = \"/content/HousePricePrediction/housing.data\"\n",
        "housing_data = np.genfromtxt(file_path)\n"
      ],
      "execution_count": null,
      "outputs": []
    },
    {
      "cell_type": "code",
      "metadata": {
        "id": "Fe0_MvPB907h",
        "colab": {
          "base_uri": "https://localhost:8080/"
        },
        "outputId": "eca86aae-9a7f-4f3e-de38-5765d23404d6"
      },
      "source": [
        "housing_data"
      ],
      "execution_count": null,
      "outputs": [
        {
          "output_type": "execute_result",
          "data": {
            "text/plain": [
              "array([[6.3200e-03, 1.8000e+01, 2.3100e+00, ..., 3.9690e+02, 4.9800e+00,\n",
              "        2.4000e+01],\n",
              "       [2.7310e-02, 0.0000e+00, 7.0700e+00, ..., 3.9690e+02, 9.1400e+00,\n",
              "        2.1600e+01],\n",
              "       [2.7290e-02, 0.0000e+00, 7.0700e+00, ..., 3.9283e+02, 4.0300e+00,\n",
              "        3.4700e+01],\n",
              "       ...,\n",
              "       [6.0760e-02, 0.0000e+00, 1.1930e+01, ..., 3.9690e+02, 5.6400e+00,\n",
              "        2.3900e+01],\n",
              "       [1.0959e-01, 0.0000e+00, 1.1930e+01, ..., 3.9345e+02, 6.4800e+00,\n",
              "        2.2000e+01],\n",
              "       [4.7410e-02, 0.0000e+00, 1.1930e+01, ..., 3.9690e+02, 7.8800e+00,\n",
              "        1.1900e+01]])"
            ]
          },
          "metadata": {},
          "execution_count": 12
        }
      ]
    },
    {
      "cell_type": "code",
      "metadata": {
        "id": "Sqr4STCwFEEb",
        "colab": {
          "base_uri": "https://localhost:8080/"
        },
        "outputId": "d8f688c1-c419-4d2e-dc15-70c35e1025e3"
      },
      "source": [
        "scale = pp.MinMaxScaler()\n",
        "housing_data_scaled = scale.fit_transform(housing_data)\n",
        "m = len(housing_data_scaled)\n",
        "housing_data_scaled"
      ],
      "execution_count": null,
      "outputs": [
        {
          "output_type": "execute_result",
          "data": {
            "text/plain": [
              "array([[0.00000000e+00, 1.80000000e-01, 6.78152493e-02, ...,\n",
              "        1.00000000e+00, 8.96799117e-02, 4.22222222e-01],\n",
              "       [2.35922539e-04, 0.00000000e+00, 2.42302053e-01, ...,\n",
              "        1.00000000e+00, 2.04470199e-01, 3.68888889e-01],\n",
              "       [2.35697744e-04, 0.00000000e+00, 2.42302053e-01, ...,\n",
              "        9.89737254e-01, 6.34657837e-02, 6.60000000e-01],\n",
              "       ...,\n",
              "       [6.11892474e-04, 0.00000000e+00, 4.20454545e-01, ...,\n",
              "        1.00000000e+00, 1.07891832e-01, 4.20000000e-01],\n",
              "       [1.16072990e-03, 0.00000000e+00, 4.20454545e-01, ...,\n",
              "        9.91300620e-01, 1.31070640e-01, 3.77777778e-01],\n",
              "       [4.61841693e-04, 0.00000000e+00, 4.20454545e-01, ...,\n",
              "        1.00000000e+00, 1.69701987e-01, 1.53333333e-01]])"
            ]
          },
          "metadata": {
            "tags": []
          },
          "execution_count": 4
        }
      ]
    },
    {
      "cell_type": "code",
      "metadata": {
        "id": "9xYnd3jhB2Yc",
        "colab": {
          "base_uri": "https://localhost:8080/"
        },
        "outputId": "48c80115-ecd9-45cd-a40b-6436cbc59ad2"
      },
      "source": [
        "x = housing_data_scaled[:, :13]\n",
        "x.shape"
      ],
      "execution_count": null,
      "outputs": [
        {
          "output_type": "execute_result",
          "data": {
            "text/plain": [
              "(506, 13)"
            ]
          },
          "metadata": {
            "tags": []
          },
          "execution_count": 5
        }
      ]
    },
    {
      "cell_type": "markdown",
      "metadata": {
        "id": "VCMURpNgBjXP"
      },
      "source": [
        ""
      ]
    },
    {
      "cell_type": "code",
      "metadata": {
        "id": "tvsmRn8bFP4f",
        "colab": {
          "base_uri": "https://localhost:8080/"
        },
        "outputId": "d4811ceb-f1ca-4abc-9ac0-14544bd47d6a"
      },
      "source": [
        "Y = housing_data_scaled[:, 13]\n",
        "Y.shape"
      ],
      "execution_count": null,
      "outputs": [
        {
          "output_type": "execute_result",
          "data": {
            "text/plain": [
              "(506,)"
            ]
          },
          "metadata": {
            "tags": []
          },
          "execution_count": 6
        }
      ]
    },
    {
      "cell_type": "code",
      "metadata": {
        "id": "VTiU7M7S97mt",
        "colab": {
          "base_uri": "https://localhost:8080/"
        },
        "outputId": "f9ebc7e6-31d1-4062-bdcd-eb78d615f955"
      },
      "source": [
        "x6 = housing_data_scaled[:, 6]\n",
        "x6"
      ],
      "execution_count": null,
      "outputs": [
        {
          "output_type": "execute_result",
          "data": {
            "text/plain": [
              "array([0.64160659, 0.78269825, 0.59938208, 0.44181256, 0.52832132,\n",
              "       0.57466529, 0.65602472, 0.95983522, 1.        , 0.85478888,\n",
              "       0.94129763, 0.82389289, 0.37178167, 0.60659114, 0.84037075,\n",
              "       0.55200824, 0.27188465, 0.8115345 , 0.34706488, 0.68589083,\n",
              "       0.98043254, 0.88877446, 0.91452111, 1.        , 0.9392379 ,\n",
              "       0.85272915, 0.90010299, 0.88465499, 0.9423275 , 0.869207  ,\n",
              "       0.9392379 , 1.        , 0.8146241 , 0.94850669, 0.96807415,\n",
              "       0.67250257, 0.60247168, 0.39752832, 0.28115345, 0.1946447 ,\n",
              "       0.13285273, 0.        , 0.03810505, 0.03707518, 0.38208033,\n",
              "       0.31822863, 0.3130793 , 0.85066941, 0.95159629, 0.60865088,\n",
              "       0.4407827 , 0.61894954, 0.18743563, 0.19052523, 0.46035015,\n",
              "       0.19567456, 0.33779609, 0.38722966, 0.27085479, 0.45623069,\n",
              "       0.65190525, 0.93202884, 0.66838311, 0.41709578, 0.58290422,\n",
              "       0.15345005, 0.29042225, 0.19052523, 0.34912461, 0.3099897 ,\n",
              "       0.03810505, 0.15036045, 0.05046344, 0.03398558, 0.03192585,\n",
              "       0.43357364, 0.73738414, 0.44181256, 0.52317199, 0.34706488,\n",
              "       0.31513903, 0.69515963, 0.30175077, 0.45108136, 0.46446962,\n",
              "       0.54788877, 0.4346035 , 0.55509784, 0.85890834, 0.6199794 ,\n",
              "       0.65087539, 0.73120494, 0.52214212, 0.26776519, 0.76622039,\n",
              "       0.5653965 , 0.6869207 , 0.75283213, 0.35015448, 0.61380021,\n",
              "       0.79299691, 0.70442842, 0.84963955, 0.87023687, 0.89701339,\n",
              "       0.96601442, 0.91658084, 0.84757981, 0.97013388, 0.90937178,\n",
              "       0.53038105, 0.81050463, 0.92687951, 0.95262616, 0.83728115,\n",
              "       0.8784758 , 0.71678682, 0.8208033 , 0.72296601, 0.64160659,\n",
              "       0.68795057, 0.83625129, 0.92687951, 0.96910402, 0.95674562,\n",
              "       0.88053553, 0.95468589, 0.95880536, 0.98764161, 0.9454171 ,\n",
              "       0.98867147, 0.97631308, 0.97837281, 0.95262616, 0.98352214,\n",
              "       0.98146241, 0.9330587 , 0.98352214, 0.98146241, 0.97837281,\n",
              "       0.93408857, 1.        , 1.        , 1.        , 0.97734295,\n",
              "       1.        , 1.        , 0.95571576, 0.9361483 , 0.94747683,\n",
              "       0.97219361, 1.        , 0.87641607, 0.98455201, 0.95880536,\n",
              "       0.8208033 , 0.93820803, 0.97322348, 1.        , 1.        ,\n",
              "       0.92378991, 0.90525232, 0.98146241, 0.93717817, 0.91555098,\n",
              "       0.92790937, 0.96086509, 0.78578785, 0.95983522, 0.95056643,\n",
              "       0.94438723, 0.97219361, 0.8815654 , 0.83625129, 0.67765191,\n",
              "       0.31101957, 0.45623069, 0.72605561, 0.73635427, 0.5715757 ,\n",
              "       0.82801236, 0.61071061, 0.91967044, 0.95468589, 0.89495366,\n",
              "       0.67868177, 0.52214212, 0.39340886, 0.26982492, 0.3707518 ,\n",
              "       0.1915551 , 0.28733265, 0.24098867, 0.07209063, 0.16374871,\n",
              "       0.29969104, 0.32131823, 0.34706488, 0.36457261, 0.1277034 ,\n",
              "       0.11328527, 0.36560247, 0.13182286, 0.31204943, 0.29866117,\n",
              "       0.19979403, 0.51081359, 0.71884655, 0.57878476, 1.        ,\n",
              "       0.91864058, 0.88259526, 0.52420185, 0.30278064, 0.07106076,\n",
              "       0.40679712, 0.54685891, 0.84654995, 0.9361483 , 0.92173018,\n",
              "       0.8815654 , 0.91040165, 0.77033986, 0.80226571, 0.77651905,\n",
              "       0.82492276, 0.86096807, 0.79299691, 0.14521112, 0.19052523,\n",
              "       0.67147271, 0.76210093, 0.72502575, 0.69515963, 0.65499485,\n",
              "       0.60350154, 0.75798146, 0.70751802, 0.16065911, 0.40473738,\n",
              "       0.52935118, 0.64057673, 0.51493306, 0.05046344, 0.75798146,\n",
              "       0.6930999 , 0.32955716, 0.78578785, 0.47579815, 0.15036045,\n",
              "       0.10401648, 0.06179197, 0.04016478, 0.05664264, 0.29969104,\n",
              "       0.16683831, 0.32234809, 0.86508754, 1.        , 1.        ,\n",
              "       0.81256437, 0.89083419, 0.91246138, 0.94335736, 0.91349125,\n",
              "       0.6168898 , 0.84140062, 0.66014418, 0.51184346, 0.60350154,\n",
              "       0.40370752, 0.13800206, 0.57466529, 0.50360453, 0.30895984,\n",
              "       0.41091658, 0.47476828, 0.25437693, 0.30072091, 0.30175077,\n",
              "       0.63439753, 0.35324408, 0.48197734, 0.22554068, 0.18434604,\n",
              "       0.29866117, 0.29454171, 0.29248198, 0.43975283, 0.20597322,\n",
              "       0.25746653, 0.2554068 , 0.21112255, 0.15962925, 0.40576725,\n",
              "       0.29042225, 0.4953656 , 0.56745623, 0.17713697, 0.07312049,\n",
              "       0.45829042, 0.38619979, 0.15962925, 0.15242019, 0.39340886,\n",
              "       0.5684861 , 0.71060762, 0.69412976, 0.81977343, 0.76004119,\n",
              "       0.35942327, 0.51390319, 0.90113285, 0.82286303, 0.869207  ,\n",
              "       0.77033986, 0.82698249, 0.70854789, 0.66220391, 0.57569516,\n",
              "       0.50875386, 0.52935118, 0.48403708, 0.73532441, 0.3831102 ,\n",
              "       0.1215242 , 0.26776519, 0.42018538, 0.23583934, 0.14727085,\n",
              "       0.30175077, 0.26261586, 0.21009269, 0.36251287, 0.36663234,\n",
              "       0.32543769, 0.44696189, 0.58393409, 0.35427394, 0.4376931 ,\n",
              "       0.57260556, 0.47785788, 0.58496395, 0.55097837, 0.25952626,\n",
              "       0.46961895, 0.50875386, 0.2554068 , 0.27600412, 0.32543769,\n",
              "       0.42739444, 0.33985582, 0.16065911, 0.34191555, 0.19567456,\n",
              "       0.17095778, 0.97322348, 0.90731205, 0.82904222, 0.80741504,\n",
              "       0.87641607, 0.90834192, 0.96086509, 0.88671473, 0.82389289,\n",
              "       0.8753862 , 0.91143151, 1.        , 1.        , 0.96704428,\n",
              "       0.97425335, 1.        , 0.89289392, 1.        , 1.        ,\n",
              "       0.97837281, 0.93099897, 0.98764161, 0.96086509, 1.        ,\n",
              "       0.91658084, 0.9907312 , 1.        , 1.        , 0.90937178,\n",
              "       0.98043254, 1.        , 0.89186406, 1.        , 0.98867147,\n",
              "       0.96910402, 0.81977343, 0.96910402, 0.92378991, 0.9454171 ,\n",
              "       0.98764161, 0.95880536, 0.98867147, 1.        , 0.77136972,\n",
              "       1.        , 1.        , 1.        , 0.95880536, 0.84963955,\n",
              "       1.        , 1.        , 1.        , 0.97837281, 1.        ,\n",
              "       1.        , 1.        , 1.        , 1.        , 1.        ,\n",
              "       1.        , 0.90525232, 0.88774459, 1.        , 0.75798146,\n",
              "       1.        , 0.95159629, 0.8722966 , 0.84654995, 0.69721936,\n",
              "       0.95262616, 0.58496395, 0.78063852, 0.77445932, 0.95468589,\n",
              "       0.85684861, 0.94129763, 0.74047374, 0.8753862 , 0.94850669,\n",
              "       0.94438723, 0.93099897, 1.        , 0.8753862 , 0.93717817,\n",
              "       0.92173018, 0.97116375, 1.        , 1.        , 0.96498455,\n",
              "       0.94644696, 0.96292482, 0.96498455, 0.98661174, 0.98249228,\n",
              "       0.92378991, 0.98146241, 0.91555098, 0.99279094, 0.9392379 ,\n",
              "       0.86096807, 0.8753862 , 0.79711637, 0.83213182, 0.83934089,\n",
              "       0.89701339, 0.88053553, 0.82492276, 0.89598352, 0.64366632,\n",
              "       0.46652935, 0.84243048, 0.94335736, 0.70133883, 0.55406797,\n",
              "       0.83522142, 0.90422245, 0.74253347, 0.66632338, 0.95262616,\n",
              "       0.97322348, 0.93408857, 0.97219361, 0.96601442, 0.87641607,\n",
              "       0.63645726, 0.7415036 , 0.76313079, 0.38516993, 0.40164779,\n",
              "       0.5046344 , 0.79196704, 0.51802266, 0.92481977, 0.98249228,\n",
              "       0.97940268, 0.98764161, 0.83007209, 0.52626159, 0.40885685,\n",
              "       0.26673532, 0.72090628, 0.69721936, 0.64263646, 0.72708548,\n",
              "       0.79093718, 0.68177137, 0.76004119, 0.90731205, 0.88980433,\n",
              "       0.80226571])"
            ]
          },
          "metadata": {
            "tags": []
          },
          "execution_count": 7
        }
      ]
    },
    {
      "cell_type": "code",
      "metadata": {
        "id": "G2MO_mirG79O",
        "colab": {
          "base_uri": "https://localhost:8080/",
          "height": 264
        },
        "outputId": "d8677afe-2677-4794-f869-79a403291939"
      },
      "source": [
        "plt.scatter(x6, Y)\n",
        "plt.show()"
      ],
      "execution_count": null,
      "outputs": [
        {
          "output_type": "display_data",
          "data": {
            "image/png": "[encoded data removed]",
            "text/plain": [
              "<Figure size 432x288 with 1 Axes>"
            ]
          },
          "metadata": {
            "tags": [],
            "needs_background": "light"
          }
        }
      ]
    },
    {
      "cell_type": "code",
      "metadata": {
        "colab": {
          "base_uri": "https://localhost:8080/"
        },
        "id": "dLsKiOflSqaA",
        "outputId": "df697e33-5f9e-4c79-b861-3771616526a4"
      },
      "source": [
        "print(x)"
      ],
      "execution_count": null,
      "outputs": [
        {
          "output_type": "stream",
          "text": [
            "[[0.00000000e+00 1.80000000e-01 6.78152493e-02 ... 2.87234043e-01\n",
            "  1.00000000e+00 8.96799117e-02]\n",
            " [2.35922539e-04 0.00000000e+00 2.42302053e-01 ... 5.53191489e-01\n",
            "  1.00000000e+00 2.04470199e-01]\n",
            " [2.35697744e-04 0.00000000e+00 2.42302053e-01 ... 5.53191489e-01\n",
            "  9.89737254e-01 6.34657837e-02]\n",
            " ...\n",
            " [6.11892474e-04 0.00000000e+00 4.20454545e-01 ... 8.93617021e-01\n",
            "  1.00000000e+00 1.07891832e-01]\n",
            " [1.16072990e-03 0.00000000e+00 4.20454545e-01 ... 8.93617021e-01\n",
            "  9.91300620e-01 1.31070640e-01]\n",
            " [4.61841693e-04 0.00000000e+00 4.20454545e-01 ... 8.93617021e-01\n",
            "  1.00000000e+00 1.69701987e-01]]\n"
          ],
          "name": "stdout"
        }
      ]
    },
    {
      "cell_type": "code",
      "metadata": {
        "id": "aODxvjVzH_rv"
      },
      "source": [
        "X = np.hstack((np.ones((m,1)), x))"
      ],
      "execution_count": null,
      "outputs": []
    },
    {
      "cell_type": "code",
      "metadata": {
        "id": "GZynLODoHFjX",
        "colab": {
          "base_uri": "https://localhost:8080/"
        },
        "outputId": "43e2d35b-a7d9-467a-e3b6-5eebe1942de8"
      },
      "source": [
        "\n",
        "X.shape"
      ],
      "execution_count": null,
      "outputs": [
        {
          "output_type": "execute_result",
          "data": {
            "text/plain": [
              "(506, 14)"
            ]
          },
          "metadata": {
            "tags": []
          },
          "execution_count": 11
        }
      ]
    },
    {
      "cell_type": "code",
      "metadata": {
        "colab": {
          "base_uri": "https://localhost:8080/"
        },
        "id": "oYWDud_rUZht",
        "outputId": "5a3d05a8-ecb9-4471-f45d-bfebfaa5fe16"
      },
      "source": [
        "print(X)"
      ],
      "execution_count": null,
      "outputs": [
        {
          "output_type": "stream",
          "text": [
            "[[1.00000000e+00 0.00000000e+00 1.80000000e-01 ... 2.87234043e-01\n",
            "  1.00000000e+00 8.96799117e-02]\n",
            " [1.00000000e+00 2.35922539e-04 0.00000000e+00 ... 5.53191489e-01\n",
            "  1.00000000e+00 2.04470199e-01]\n",
            " [1.00000000e+00 2.35697744e-04 0.00000000e+00 ... 5.53191489e-01\n",
            "  9.89737254e-01 6.34657837e-02]\n",
            " ...\n",
            " [1.00000000e+00 6.11892474e-04 0.00000000e+00 ... 8.93617021e-01\n",
            "  1.00000000e+00 1.07891832e-01]\n",
            " [1.00000000e+00 1.16072990e-03 0.00000000e+00 ... 8.93617021e-01\n",
            "  9.91300620e-01 1.31070640e-01]\n",
            " [1.00000000e+00 4.61841693e-04 0.00000000e+00 ... 8.93617021e-01\n",
            "  1.00000000e+00 1.69701987e-01]]\n"
          ],
          "name": "stdout"
        }
      ]
    },
    {
      "cell_type": "code",
      "metadata": {
        "id": "X4PqrFugj-76",
        "colab": {
          "base_uri": "https://localhost:8080/"
        },
        "outputId": "b7851b6e-2d63-4b35-9ba0-1a467e5375cc"
      },
      "source": [
        "theta = np.matmul(np.matmul(np.linalg.inv(np.matmul(np.transpose(X), X)), np.transpose(X)), Y.reshape([m,1]))\n",
        "theta"
      ],
      "execution_count": null,
      "outputs": [
        {
          "output_type": "execute_result",
          "data": {
            "text/plain": [
              "array([[ 0.48045039],\n",
              "       [-0.21355017],\n",
              "       [ 0.10315657],\n",
              "       [ 0.0124631 ],\n",
              "       [ 0.0597052 ],\n",
              "       [-0.1918794 ],\n",
              "       [ 0.4418597 ],\n",
              "       [ 0.00149367],\n",
              "       [-0.36059247],\n",
              "       [ 0.15642529],\n",
              "       [-0.14362949],\n",
              "       [-0.19901831],\n",
              "       [ 0.08206283],\n",
              "       [-0.42260541]])"
            ]
          },
          "metadata": {
            "tags": []
          },
          "execution_count": 13
        }
      ]
    },
    {
      "cell_type": "code",
      "metadata": {
        "id": "jkUM0TRikAt7"
      },
      "source": [
        "def plot_polynomial(xmin, xmax, coef, color='C1'):\n",
        "    #xs is an array of evenly spaced numbers between xmin and xmax\n",
        "    xs = np.linspace(xmin, xmax, num=500)\n",
        "    \n",
        "    #ys is an array, each element is computed as a polynomial function of\n",
        "    #the corresponding element of xs\n",
        "    ys = np.zeros_like(xs)\n",
        "    for p, c in enumerate(coef.flatten()):\n",
        "        ys += c*np.power(xs, p)\n",
        "    plt.plot(xs, ys, color=color)"
      ],
      "execution_count": null,
      "outputs": []
    },
    {
      "cell_type": "code",
      "metadata": {
        "id": "l1GvMIR3zbAR",
        "colab": {
          "base_uri": "https://localhost:8080/",
          "height": 264
        },
        "outputId": "3f8438d4-6686-402b-ff89-3933a4819247"
      },
      "source": [
        "plt.scatter(x6,Y)\n",
        "plot_polynomial(0, 1, theta)\n",
        "plt.show()"
      ],
      "execution_count": null,
      "outputs": [
        {
          "output_type": "display_data",
          "data": {
            "image/png": "[encoded data removed]",
            "text/plain": [
              "<Figure size 432x288 with 1 Axes>"
            ]
          },
          "metadata": {
            "tags": [],
            "needs_background": "light"
          }
        }
      ]
    },
    {
      "cell_type": "code",
      "metadata": {
        "id": "AmB2mt8bkEaS"
      },
      "source": [
        "def grad(X, y, t, m):\n",
        "    g = (1/m) * np.matmul(np.transpose(X), np.matmul(X, t) - y.reshape([m,1]))\n",
        "    return g.reshape(theta.shape)"
      ],
      "execution_count": null,
      "outputs": []
    },
    {
      "cell_type": "code",
      "metadata": {
        "id": "6Ll7kXlkkIUK",
        "colab": {
          "base_uri": "https://localhost:8080/"
        },
        "outputId": "129a661b-87c6-4148-aa35-1bbb70b10ccf"
      },
      "source": [
        "theta2 = np.random.normal(size=14).reshape([14,1])\n",
        "theta2"
      ],
      "execution_count": null,
      "outputs": [
        {
          "output_type": "execute_result",
          "data": {
            "text/plain": [
              "array([[-0.58900339],\n",
              "       [-0.04631075],\n",
              "       [-0.07808825],\n",
              "       [ 0.22428716],\n",
              "       [ 0.29424675],\n",
              "       [-0.42510384],\n",
              "       [ 1.52798547],\n",
              "       [-1.21427574],\n",
              "       [ 0.58174463],\n",
              "       [ 0.31782566],\n",
              "       [ 0.85202526],\n",
              "       [ 2.92305358],\n",
              "       [-1.17519513],\n",
              "       [-0.85101621]])"
            ]
          },
          "metadata": {
            "tags": []
          },
          "execution_count": 17
        }
      ]
    },
    {
      "cell_type": "code",
      "metadata": {
        "id": "Z689VFPhkJnS",
        "colab": {
          "base_uri": "https://localhost:8080/"
        },
        "outputId": "04f1faa4-ca9e-44d0-d5c0-b75b501f499e"
      },
      "source": [
        "alpha = 0.5  #learning rate\n",
        "for i in range(30000):\n",
        "    g = grad(X, Y, theta2, m)\n",
        "    theta2 = theta2 - alpha*g\n",
        "theta2"
      ],
      "execution_count": null,
      "outputs": [
        {
          "output_type": "execute_result",
          "data": {
            "text/plain": [
              "array([[ 0.48045039],\n",
              "       [-0.21355017],\n",
              "       [ 0.10315657],\n",
              "       [ 0.0124631 ],\n",
              "       [ 0.0597052 ],\n",
              "       [-0.1918794 ],\n",
              "       [ 0.4418597 ],\n",
              "       [ 0.00149367],\n",
              "       [-0.36059247],\n",
              "       [ 0.15642529],\n",
              "       [-0.14362949],\n",
              "       [-0.19901831],\n",
              "       [ 0.08206283],\n",
              "       [-0.42260541]])"
            ]
          },
          "metadata": {
            "tags": []
          },
          "execution_count": 18
        }
      ]
    },
    {
      "cell_type": "code",
      "metadata": {
        "id": "ZA5IKqHGkS3q",
        "colab": {
          "base_uri": "https://localhost:8080/",
          "height": 264
        },
        "outputId": "3e650498-6b61-4104-c407-aa92e7762d7c"
      },
      "source": [
        "plt.scatter(x6, Y)\n",
        "plot_polynomial(0,1, theta2)\n",
        "plt.show()"
      ],
      "execution_count": null,
      "outputs": [
        {
          "output_type": "display_data",
          "data": {
            "image/png": "[encoded data removed]",
            "text/plain": [
              "<Figure size 432x288 with 1 Axes>"
            ]
          },
          "metadata": {
            "tags": [],
            "needs_background": "light"
          }
        }
      ]
    },
    {
      "cell_type": "code",
      "metadata": {
        "id": "ETdMw1Wq446P"
      },
      "source": [
        ""
      ],
      "execution_count": null,
      "outputs": []
    }
  ]
}